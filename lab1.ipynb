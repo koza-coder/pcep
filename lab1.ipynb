{
 "cells": [
  {
   "cell_type": "code",
   "execution_count": 1,
   "id": "0cc96ea2-90d4-467a-b9f6-2260e9033994",
   "metadata": {},
   "outputs": [
    {
     "data": {
      "text/plain": [
       "8"
      ]
     },
     "execution_count": 1,
     "metadata": {},
     "output_type": "execute_result"
    }
   ],
   "source": [
    "5+3"
   ]
  },
  {
   "cell_type": "code",
   "execution_count": 3,
   "id": "24b11ed9-25f7-442f-81ae-56b94932142b",
   "metadata": {},
   "outputs": [
    {
     "data": {
      "text/plain": [
       "1"
      ]
     },
     "execution_count": 3,
     "metadata": {},
     "output_type": "execute_result"
    }
   ],
   "source": [
    "a =1\n",
    "b = 0\n",
    "e = a^b.  #XOR   what is in a if b=0; negate what is in a if b=1\n",
    "e"
   ]
  },
  {
   "cell_type": "code",
   "execution_count": null,
   "id": "e19b39ce-7452-4e88-ab73-05a024e32909",
   "metadata": {},
   "outputs": [],
   "source": []
  },
  {
   "cell_type": "code",
   "execution_count": 4,
   "id": "eae714cb-fd31-4a50-8c6e-7f6cc6eb1868",
   "metadata": {},
   "outputs": [
    {
     "name": "stdin",
     "output_type": "stream",
     "text": [
      "give the number 123\n"
     ]
    },
    {
     "ename": "TypeError",
     "evalue": "can only concatenate str (not \"int\") to str",
     "output_type": "error",
     "traceback": [
      "\u001b[0;31m---------------------------------------------------------------------------\u001b[0m",
      "\u001b[0;31mTypeError\u001b[0m                                 Traceback (most recent call last)",
      "Cell \u001b[0;32mIn[4], line 2\u001b[0m\n\u001b[1;32m      1\u001b[0m num \u001b[38;5;241m=\u001b[39m \u001b[38;5;28minput\u001b[39m(\u001b[38;5;124m\"\u001b[39m\u001b[38;5;124mgive the number\u001b[39m\u001b[38;5;124m\"\u001b[39m)\n\u001b[0;32m----> 2\u001b[0m \u001b[38;5;28mprint\u001b[39m(\u001b[43mnum\u001b[49m\u001b[43m \u001b[49m\u001b[38;5;241;43m+\u001b[39;49m\u001b[38;5;241;43m1\u001b[39;49m)\n",
      "\u001b[0;31mTypeError\u001b[0m: can only concatenate str (not \"int\") to str"
     ]
    }
   ],
   "source": [
    "num = input(\"give the number\")\n",
    "print(num +1)"
   ]
  },
  {
   "cell_type": "code",
   "execution_count": 5,
   "id": "9217c455-5a2a-4f69-a0fc-3e7c021f380a",
   "metadata": {},
   "outputs": [
    {
     "name": "stdin",
     "output_type": "stream",
     "text": [
      "give the number 123\n"
     ]
    },
    {
     "name": "stdout",
     "output_type": "stream",
     "text": [
      "124\n"
     ]
    }
   ],
   "source": [
    "num = input(\"give the number\")\n",
    "print(int(num) +1)"
   ]
  },
  {
   "cell_type": "code",
   "execution_count": 6,
   "id": "edb4b451-158c-4eba-a2fb-b1237fc9dc82",
   "metadata": {},
   "outputs": [
    {
     "name": "stdin",
     "output_type": "stream",
     "text": [
      "give the number 123\n"
     ]
    },
    {
     "name": "stdout",
     "output_type": "stream",
     "text": [
      "124\n"
     ]
    }
   ],
   "source": [
    "num = input(\"give the number\")\n",
    "print(eval(num)+1)"
   ]
  },
  {
   "cell_type": "code",
   "execution_count": 7,
   "id": "d44aa8af-2bf3-4a87-8a0d-5d8d9b88e392",
   "metadata": {},
   "outputs": [
    {
     "data": {
      "text/plain": [
       "\u001b[0;31mSignature:\u001b[0m \u001b[0meval\u001b[0m\u001b[0;34m(\u001b[0m\u001b[0msource\u001b[0m\u001b[0;34m,\u001b[0m \u001b[0mglobals\u001b[0m\u001b[0;34m=\u001b[0m\u001b[0;32mNone\u001b[0m\u001b[0;34m,\u001b[0m \u001b[0mlocals\u001b[0m\u001b[0;34m=\u001b[0m\u001b[0;32mNone\u001b[0m\u001b[0;34m,\u001b[0m \u001b[0;34m/\u001b[0m\u001b[0;34m)\u001b[0m\u001b[0;34m\u001b[0m\u001b[0;34m\u001b[0m\u001b[0m\n",
       "\u001b[0;31mDocstring:\u001b[0m\n",
       "Evaluate the given source in the context of globals and locals.\n",
       "\n",
       "The source may be a string representing a Python expression\n",
       "or a code object as returned by compile().\n",
       "The globals must be a dictionary and locals can be any mapping,\n",
       "defaulting to the current globals and locals.\n",
       "If only globals is given, locals defaults to it.\n",
       "\u001b[0;31mType:\u001b[0m      builtin_function_or_method"
      ]
     },
     "metadata": {},
     "output_type": "display_data"
    }
   ],
   "source": [
    "eval?   # https://realpython.com/python-eval-function/"
   ]
  },
  {
   "cell_type": "code",
   "execution_count": 8,
   "id": "8667ac65-6a51-408d-b00d-4be24824a3f3",
   "metadata": {},
   "outputs": [
    {
     "name": "stdout",
     "output_type": "stream",
     "text": [
      "dlroW olleH\n"
     ]
    }
   ],
   "source": [
    "str = \"Hello World\"\n",
    "newstr = str[::-1]\n",
    "print(newstr)"
   ]
  },
  {
   "cell_type": "code",
   "execution_count": 10,
   "id": "64109f94-d650-4753-b36f-37f9c1d8859a",
   "metadata": {},
   "outputs": [
    {
     "name": "stdin",
     "output_type": "stream",
     "text": [
      "enter your name Przemek\n"
     ]
    }
   ],
   "source": [
    "name = input(\"enter your name\")\n",
    "\n",
    "if name.lower() == name:\n",
    "    print(\"name is lowercase\")\n"
   ]
  },
  {
   "cell_type": "code",
   "execution_count": 13,
   "id": "11ec6ef5-ab2d-4ab3-b9b5-12488f80bd8d",
   "metadata": {},
   "outputs": [
    {
     "name": "stdin",
     "output_type": "stream",
     "text": [
      "enter your name Przemek\n"
     ]
    },
    {
     "name": "stdout",
     "output_type": "stream",
     "text": [
      "name is mixed\n"
     ]
    }
   ],
   "source": [
    "name = input(\"enter your name\")\n",
    "\n",
    "if name.lower() == name:\n",
    "    print(\"name is lowercase\")\n",
    "elif name.upper() == name:\n",
    "   print(\"name is uppercase\")\n",
    "else:\n",
    "    print(\"name is mixed case\")"
   ]
  },
  {
   "cell_type": "code",
   "execution_count": 14,
   "id": "050a1b97-0538-470e-9443-540bb0d6c452",
   "metadata": {},
   "outputs": [
    {
     "name": "stdout",
     "output_type": "stream",
     "text": [
      "0\n"
     ]
    }
   ],
   "source": [
    "print(1//2)"
   ]
  },
  {
   "cell_type": "code",
   "execution_count": 18,
   "id": "9667cd24-8492-4448-b455-467ad833be82",
   "metadata": {},
   "outputs": [
    {
     "name": "stdout",
     "output_type": "stream",
     "text": [
      "2\n"
     ]
    }
   ],
   "source": [
    "print(9//4)"
   ]
  },
  {
   "cell_type": "code",
   "execution_count": 17,
   "id": "fa6d6749-de31-4933-8d15-94d11122e973",
   "metadata": {},
   "outputs": [
    {
     "name": "stdout",
     "output_type": "stream",
     "text": [
      "1\n"
     ]
    }
   ],
   "source": [
    "print(9%4)"
   ]
  },
  {
   "cell_type": "code",
   "execution_count": 21,
   "id": "effa59fe-241e-475a-9a06-5e3fbf41d2d8",
   "metadata": {},
   "outputs": [
    {
     "name": "stdout",
     "output_type": "stream",
     "text": [
      "<class 'float'>\n",
      "<class 'float'>\n",
      "<class 'str'>\n",
      "<class 'bool'>\n"
     ]
    }
   ],
   "source": [
    "print(type(+1E10))\n",
    "print(type(5.0))\n",
    "print(type(\"True\"))\n",
    "print(type(False))"
   ]
  },
  {
   "cell_type": "code",
   "execution_count": 23,
   "id": "1a6d8aba-7fa2-458b-93fd-bcd305550bed",
   "metadata": {},
   "outputs": [
    {
     "name": "stdout",
     "output_type": "stream",
     "text": [
      "FALSE\n"
     ]
    }
   ],
   "source": [
    "    w = 7\n",
    "    x = 3\n",
    "    y = 4\n",
    "    z = True\n",
    "    a = w + x * y\n",
    "    b = w + x / z\n",
    "     \n",
    "    if a<b:\n",
    "        print('TRUE')\n",
    "    else:\n",
    "        print('FALSE')"
   ]
  },
  {
   "cell_type": "code",
   "execution_count": 24,
   "id": "f10304b4-8bf9-4c2b-905e-c3ced4f39813",
   "metadata": {},
   "outputs": [
    {
     "name": "stdout",
     "output_type": "stream",
     "text": [
      "10.0\n"
     ]
    }
   ],
   "source": [
    "b = w + x / z\n",
    "print(b)"
   ]
  },
  {
   "cell_type": "code",
   "execution_count": 25,
   "id": "e9068893-a5f4-4472-9d57-424674499ba2",
   "metadata": {},
   "outputs": [
    {
     "data": {
      "text/plain": [
       "5.0"
      ]
     },
     "execution_count": 25,
     "metadata": {},
     "output_type": "execute_result"
    }
   ],
   "source": [
    "a= 5\n",
    "b = True\n",
    "c = a/b\n",
    "c"
   ]
  },
  {
   "cell_type": "code",
   "execution_count": 27,
   "id": "5d1c4ac0-daaa-4628-bb0d-e48676bb78bc",
   "metadata": {},
   "outputs": [
    {
     "data": {
      "text/plain": [
       "[2, 2, 2]"
      ]
     },
     "execution_count": 27,
     "metadata": {},
     "output_type": "execute_result"
    }
   ],
   "source": [
    "l1 = [2 for a in range(0, 3)]\n",
    "l1"
   ]
  },
  {
   "cell_type": "code",
   "execution_count": 31,
   "id": "6c860ad1-e266-40c6-ad96-831cbc89e000",
   "metadata": {},
   "outputs": [
    {
     "name": "stdout",
     "output_type": "stream",
     "text": [
      "2\n"
     ]
    }
   ],
   "source": [
    "box ={}\n",
    "jars ={}\n",
    "crates={}\n",
    "\n",
    "box[\"biscuit\"] = 3\n",
    "box[\"cake\"]=5\n",
    "\n",
    "jars[\"jam\"] =6\n",
    "\n",
    "crates[\"box\"] = box\n",
    "crates[\"jars\"] = jars\n",
    "\n",
    "print(len(crates[\"box\"]))"
   ]
  },
  {
   "cell_type": "code",
   "execution_count": 32,
   "id": "0943d6a4-302c-4139-aba8-266b18cec1c2",
   "metadata": {},
   "outputs": [
    {
     "name": "stdout",
     "output_type": "stream",
     "text": [
      "{'box': {'biscuit': 3, 'cake': 5}, 'jars': {'jam': 6}}\n"
     ]
    }
   ],
   "source": [
    "print(crates)"
   ]
  },
  {
   "cell_type": "code",
   "execution_count": 34,
   "id": "876de9fb-6b4f-407e-a0d9-44c81cc93a2e",
   "metadata": {},
   "outputs": [
    {
     "name": "stdin",
     "output_type": "stream",
     "text": [
      "Please enter the order value:  1700\n",
      "Please enter the state (as postal abbreviation):  FL\n"
     ]
    },
    {
     "name": "stdout",
     "output_type": "stream",
     "text": [
      "50\n"
     ]
    }
   ],
   "source": [
    "    order = int(input('Please enter the order value: '))\n",
    "    state = input('Please enter the state (as postal abbreviation): ')\n",
    "    delivery = 0\n",
    "     \n",
    "    if state in ['NC', 'SC', 'VA']:\n",
    "        if order <= 1000:\n",
    "            delivery = 70\n",
    "        elif 1000 < order < 2000:\n",
    "            delivery = 80\n",
    "        else:\n",
    "            delivery = 90\n",
    "    else:\n",
    "        delivery = 50\n",
    "print(delivery)"
   ]
  },
  {
   "cell_type": "code",
   "execution_count": 35,
   "id": "08bf2b85-2c34-43a7-8eb7-720d0399964d",
   "metadata": {},
   "outputs": [
    {
     "name": "stdout",
     "output_type": "stream",
     "text": [
      "120\n"
     ]
    }
   ],
   "source": [
    "    if state in ['GA', 'WV', 'FL']:\n",
    "        if order > 1000:\n",
    "            delivery += 30\n",
    "        if order < 2000 and state in ['WV', 'FL']:\n",
    "            delivery += 40\n",
    "        else:\n",
    "            delivery += 25\n",
    "    print(delivery)"
   ]
  },
  {
   "cell_type": "code",
   "execution_count": 42,
   "id": "08208b44-1500-4cf0-8b38-2cac9878a44a",
   "metadata": {},
   "outputs": [
    {
     "name": "stdin",
     "output_type": "stream",
     "text": [
      "podaj liczbe, sprawdzimy cy parzysta 5\n"
     ]
    },
    {
     "name": "stdout",
     "output_type": "stream",
     "text": [
      "nieparzysta\n",
      "czy liczba jest parzysta?: False\n",
      "jeszcze jedno sprawdzenie czy liczba jest parzysta: False \n"
     ]
    }
   ],
   "source": [
    "i = int(input(\"podaj liczbe, sprawdzimy cy parzysta\")) \n",
    "if i % 2 == 0:\n",
    "    print(\"parzysta\")\n",
    "else:\n",
    "    print(\"nieparzysta\")\n",
    "\n",
    "even = True if i %2 ==0 else False\n",
    "print(f\"czy liczba jest parzysta?: {even}\")\n",
    "\n",
    "even = i%2 ==0\n",
    "print(f\"jeszcze jedno sprawdzenie czy liczba jest parzysta: {even} \")"
   ]
  },
  {
   "cell_type": "code",
   "execution_count": 36,
   "id": "9e3890b5-bf47-4db4-9bd2-8df8c4be6df8",
   "metadata": {},
   "outputs": [],
   "source": [
    "    num = 42\n",
    "     \n",
    "    # Code-1\n",
    "    if num % 2 == 0:\n",
    "        even = True\n",
    "    else:\n",
    "        even = False\n",
    "     \n",
    "    # Code-2\n",
    "    even = True if num % 2 == 0 else False\n",
    "     \n",
    "    # Code-3\n",
    "    even = num % 2 == 0"
   ]
  },
  {
   "cell_type": "code",
   "execution_count": 37,
   "id": "cb9540ab-a120-4750-b976-7e7e405c3018",
   "metadata": {},
   "outputs": [
    {
     "data": {
      "text/plain": [
       "True"
      ]
     },
     "execution_count": 37,
     "metadata": {},
     "output_type": "execute_result"
    }
   ],
   "source": [
    "even"
   ]
  },
  {
   "cell_type": "code",
   "execution_count": 43,
   "id": "15b2605b-4ec9-4a82-b801-d7582a13b846",
   "metadata": {},
   "outputs": [
    {
     "data": {
      "text/plain": [
       "\u001b[0;31mSignature:\u001b[0m \u001b[0ma\u001b[0m\u001b[0;34m.\u001b[0m\u001b[0mencode\u001b[0m\u001b[0;34m(\u001b[0m\u001b[0mencoding\u001b[0m\u001b[0;34m=\u001b[0m\u001b[0;34m'utf-8'\u001b[0m\u001b[0;34m,\u001b[0m \u001b[0merrors\u001b[0m\u001b[0;34m=\u001b[0m\u001b[0;34m'strict'\u001b[0m\u001b[0;34m)\u001b[0m\u001b[0;34m\u001b[0m\u001b[0;34m\u001b[0m\u001b[0m\n",
       "\u001b[0;31mDocstring:\u001b[0m\n",
       "Encode the string using the codec registered for encoding.\n",
       "\n",
       "encoding\n",
       "  The encoding in which to encode the string.\n",
       "errors\n",
       "  The error handling scheme to use for encoding errors.\n",
       "  The default is 'strict' meaning that encoding errors raise a\n",
       "  UnicodeEncodeError.  Other possible values are 'ignore', 'replace' and\n",
       "  'xmlcharrefreplace' as well as any other name registered with\n",
       "  codecs.register_error that can handle UnicodeEncodeErrors.\n",
       "\u001b[0;31mType:\u001b[0m      builtin_function_or_method"
      ]
     },
     "metadata": {},
     "output_type": "display_data"
    }
   ],
   "source": [
    "a =\"jakis string\"\n",
    "a.encode?"
   ]
  },
  {
   "cell_type": "code",
   "execution_count": 45,
   "id": "bd4ab0e6-da80-4769-a2d9-01ff82c091ac",
   "metadata": {},
   "outputs": [
    {
     "name": "stdout",
     "output_type": "stream",
     "text": [
      "abc\n"
     ]
    }
   ],
   "source": [
    "try:\n",
    "    raise Exception\n",
    "except:\n",
    "    print(\"abc\")"
   ]
  },
  {
   "cell_type": "code",

   "execution_count": 2,
   "id": "0b1c9cc2-17bf-4d3c-9126-9685abf4bbd7",
   "metadata": {},
   "outputs": [
    {
     "ename": "SyntaxError",
     "evalue": "default 'except:' must be last (811548059.py, line 3)",
     "output_type": "error",
     "traceback": [
      "\u001b[0;36m  Cell \u001b[0;32mIn[2], line 3\u001b[0;36m\u001b[0m\n\u001b[0;31m    except:\u001b[0m\n\u001b[0m    ^\u001b[0m\n\u001b[0;31mSyntaxError\u001b[0m\u001b[0;31m:\u001b[0m default 'except:' must be last\n"
     ]
    }
   ],
   "source": [
    "try:\n",
    "    raise Exception\n",
    "except:\n",
    "    print(\"c\")\n",
    "except BaseException:\n",
    "    print(\"a\")\n",
    "except Exception:\n",
    "    print(\"b\")"
   ]
  },
  {
   "cell_type": "code",
   "execution_count": 3,
   "id": "7583219e-1bb8-4dab-88e8-a6f5a2b95c15",
   "metadata": {},
   "outputs": [
    {
     "name": "stdout",
     "output_type": "stream",
     "text": [
      "a\n"
     ]
    }
   ],
   "source": [
    "try:\n",
    "    raise Exception\n",
    "    \n",
    "except BaseException:\n",
    "    print(\"a\")\n",
    "except Exception:\n",
    "    print(\"b\")\n",
    "except:\n",
    "    print(\"c\")"
   ]
  },
  {
   "cell_type": "code",
   "execution_count": 8,
   "id": "195da321-d2d5-449e-9d85-e8ee9fd8ef7c",
   "metadata": {},
   "outputs": [
    {
     "name": "stdout",
     "output_type": "stream",
     "text": [
      "7\n",
      "42\n",
      "23\n"
     ]
    }
   ],
   "source": [
    "data = { \"z\":23, \"x\":7, \"y\":42}\n",
    "for _ in sorted(data):\n",
    "    print(data[_], sep=\" \")"
   ]
  },
  {
   "cell_type": "code",
   "execution_count": 13,
   "id": "a2b8517e-7507-48bf-9a03-8878bf7194b4",
   "metadata": {},
   "outputs": [
    {
     "name": "stdout",
     "output_type": "stream",
     "text": [
      "True\n",
      "False\n",
      "True\n",
      "False\n",
      "True\n"
     ]
    }
   ],
   "source": [
    "print(not 0)\n",
    "print(not 23)\n",
    "print(not \"\")\n",
    "print(not \"Peter\")\n",
    "print(not None)"
   ]
  },
  {
   "cell_type": "code",
   "execution_count": 14,
   "id": "988100d2-29b7-42e8-97ae-7adf3683ad7a",
   "metadata": {},
   "outputs": [
    {
     "name": "stdout",
     "output_type": "stream",
     "text": [
      "None\n"
     ]
    }
   ],
   "source": [
    "print(None)"
   ]
  },
  {
   "cell_type": "code",
   "execution_count": 15,
   "id": "9bbc6971-d6d6-4d0f-bf35-a48fa79a9138",
   "metadata": {},
   "outputs": [
    {
     "name": "stdout",
     "output_type": "stream",
     "text": [
      "\n"
     ]
    }
   ],
   "source": [
    "print(\"\")"
   ]
  },
  {
   "cell_type": "code",
   "execution_count": 19,
   "id": "f1269ed7-b074-40be-9f9a-dc88ac45c5e0",
   "metadata": {},
   "outputs": [
    {
     "data": {
      "text/plain": [
       "-27"
      ]
     },
     "execution_count": 19,
     "metadata": {},
     "output_type": "execute_result"
    }
   ],
   "source": [
    "a=3\n",
    "b = (-a)**3\n",
    "b"
   ]
  },
  {
   "cell_type": "code",
   "execution_count": 20,
   "id": "1fd5d9b2-7dbe-48b3-bc5a-59b3d118f391",
   "metadata": {},
   "outputs": [
    {
     "ename": "TypeError",
     "evalue": "func() missing 1 required positional argument: 'b'",
     "output_type": "error",
     "traceback": [
      "\u001b[0;31m---------------------------------------------------------------------------\u001b[0m",
      "\u001b[0;31mTypeError\u001b[0m                                 Traceback (most recent call last)",
      "Cell \u001b[0;32mIn[20], line 4\u001b[0m\n\u001b[1;32m      1\u001b[0m \u001b[38;5;28;01mdef\u001b[39;00m \u001b[38;5;21mfunc\u001b[39m(a,b):\n\u001b[1;32m      2\u001b[0m     \u001b[38;5;28;01mreturn\u001b[39;00m a\u001b[38;5;241m*\u001b[39m\u001b[38;5;241m*\u001b[39ma\n\u001b[0;32m----> 4\u001b[0m \u001b[38;5;28mprint\u001b[39m(\u001b[43mfunc\u001b[49m\u001b[43m(\u001b[49m\u001b[38;5;241;43m2\u001b[39;49m\u001b[43m)\u001b[49m)\n",
      "\u001b[0;31mTypeError\u001b[0m: func() missing 1 required positional argument: 'b'"
     ]
    }
   ],
   "source": [
    "def func(a,b):\n",
    "    return a**a\n",
    "\n",
    "print(func(2))"
   ]
  },
  {
   "cell_type": "code",
   "execution_count": 21,
   "id": "3182a951-bd69-4c11-ba3c-e440939e63b2",
   "metadata": {},
   "outputs": [
    {
     "name": "stdout",
     "output_type": "stream",
     "text": [
      "[2, 1, 0]\n"
     ]
    }
   ],
   "source": [
    "x = [0, 1, 2]\n",
    "x[0], x[2] = x[2], x[0]\n",
    "print(x)"
   ]
  },
  {
   "cell_type": "code",
   "execution_count": 25,
   "id": "ac75025d-53f0-4b36-b740-e47a3cf3fdd7",
   "metadata": {},
   "outputs": [
    {
     "name": "stdout",
     "output_type": "stream",
     "text": [
      "True\n"
     ]
    }
   ],
   "source": [
    "z = 10\n",
    "y = 0\n",
    "x =  z > y or z == y\n",
    "print(x)"
   ]
  },
  {
   "cell_type": "code",
   "execution_count": 29,
   "id": "0b7dad9e-e277-4396-853d-543c72dcd083",
   "metadata": {},
   "outputs": [
    {
     "name": "stdout",
     "output_type": "stream",
     "text": [
      "2\n"
     ]
    }
   ],
   "source": [
    "x = {(1,2):1, (2,3):2}\n",
    "print(x[2,3])"
   ]
  },
  {
   "cell_type": "code",
   "execution_count": 34,
   "id": "c4cd293c-5114-4058-8c44-dcea02621956",
   "metadata": {},
   "outputs": [
    {
     "name": "stdout",
     "output_type": "stream",
     "text": [
      "5\n"
     ]
    }
   ],
   "source": [
    "x = {1:[1,5], (2,3):2}\n",
    "print(x[1][1])"
   ]
  },
  {
   "cell_type": "code",
   "execution_count": 37,
   "id": "3c22304d-cf03-4d5e-b489-4e9e38fc95a7",
   "metadata": {},
   "outputs": [
    {
     "data": {
      "text/plain": [
       "['False',\n",
       " 'None',\n",
       " 'True',\n",
       " 'and',\n",
       " 'as',\n",
       " 'assert',\n",
       " 'async',\n",
       " 'await',\n",
       " 'break',\n",
       " 'class',\n",
       " 'continue',\n",
       " 'def',\n",
       " 'del',\n",
       " 'elif',\n",
       " 'else',\n",
       " 'except',\n",
       " 'finally',\n",
       " 'for',\n",
       " 'from',\n",
       " 'global',\n",
       " 'if',\n",
       " 'import',\n",
       " 'in',\n",
       " 'is',\n",
       " 'lambda',\n",
       " 'nonlocal',\n",
       " 'not',\n",
       " 'or',\n",
       " 'pass',\n",
       " 'raise',\n",
       " 'return',\n",
       " 'try',\n",
       " 'while',\n",
       " 'with',\n",
       " 'yield']"
      ]
     },
     "execution_count": 37,
     "metadata": {},
     "output_type": "execute_result"
    }
   ],
   "source": [
    "import keyword\n",
    "keyword.kwlist"
   ]
  },
  {
   "cell_type": "code",
   "execution_count": 38,
   "id": "fd536f0d-f707-4db9-b9fb-aedee51b7ff7",
   "metadata": {},
   "outputs": [
    {
     "data": {
      "text/plain": [
       "15"
      ]
     },
     "execution_count": 38,
     "metadata": {},
     "output_type": "execute_result"
    }
   ],
   "source": [
    "(3* (1+2)**2 - (2**2) * 3)"
   ]
  },
  {
   "cell_type": "code",
   "execution_count": 39,
   "id": "e6741b6c-63bc-4df6-b535-944882930459",
   "metadata": {},
   "outputs": [
    {
     "data": {
      "text/plain": [
       "16"
      ]
     },
     "execution_count": 39,
     "metadata": {},
     "output_type": "execute_result"
    }
   ],
   "source": [
    "def func1(a):\n",
    "    return a**a\n",
    "\n",
    "def func2(a):\n",
    "    return func1(a) * func1(a)\n",
    "\n",
    "func2(2)"
   ]
  },
  {
   "cell_type": "code",
   "execution_count": 43,
   "id": "d3c0e930-293e-48ff-b4bf-656a520f33d7",
   "metadata": {},
   "outputs": [
    {
     "name": "stdout",
     "output_type": "stream",
     "text": [
      "1\n",
      "1\n",
      "0\n"
     ]
    }
   ],
   "source": [
    "a = 1\n",
    "b= 0\n",
    "a = a^b\n",
    "print(a)\n",
    "b= a^b\n",
    "print(b)\n",
    "b= a^b\n",
    "print(b)\n"
   ]
  },
  {
   "cell_type": "code",
   "execution_count": 49,
   "id": "2c9639ad-68d5-45fe-bcc6-9d1f3ecd93d0",
   "metadata": {},
   "outputs": [
    {
     "name": "stdout",
     "output_type": "stream",
     "text": [
      "112\n",
      "115\n",
      "s\n"
     ]
    },
    {
     "data": {
      "text/plain": [
       "\u001b[0;31mSignature:\u001b[0m \u001b[0mord\u001b[0m\u001b[0;34m(\u001b[0m\u001b[0mc\u001b[0m\u001b[0;34m,\u001b[0m \u001b[0;34m/\u001b[0m\u001b[0;34m)\u001b[0m\u001b[0;34m\u001b[0m\u001b[0;34m\u001b[0m\u001b[0m\n",
       "\u001b[0;31mDocstring:\u001b[0m Return the Unicode code point for a one-character string.\n",
       "\u001b[0;31mType:\u001b[0m      builtin_function_or_method"
      ]
     },
     "metadata": {},
     "output_type": "display_data"
    }
   ],
   "source": [
    "ord?\n",
    "print(ord(\"p\"))\n",
    "print(ord(\"p\") +3)\n",
    "print(chr(ord(\"p\") +3))"
   ]
  },
  {
   "cell_type": "code",
   "execution_count": 50,
   "id": "92d91716-f6c8-43d0-a4ec-9eb4e4dbabcf",
   "metadata": {},
   "outputs": [
    {
     "ename": "SyntaxError",
     "evalue": "invalid decimal literal (1712300725.py, line 1)",
     "output_type": "error",
     "traceback": [
      "\u001b[0;36m  Cell \u001b[0;32mIn[50], line 1\u001b[0;36m\u001b[0m\n\u001b[0;31m    def 1function1:\u001b[0m\n\u001b[0m        ^\u001b[0m\n\u001b[0;31mSyntaxError\u001b[0m\u001b[0;31m:\u001b[0m invalid decimal literal\n"
     ]
    }
   ],
   "source": [
    "def 1function1:\n",
    "    pass"
   ]
  },
  {
   "cell_type": "code",
   "execution_count": 51,
   "id": "dac27cb7-541c-453e-9b72-b56393b18d8a",
   "metadata": {},
   "outputs": [
    {
     "name": "stdout",
     "output_type": "stream",
     "text": [
      "4\n"
     ]
    }
   ],
   "source": [
    "def fun(x):\n",
    "    x += 1\n",
    "    return x\n",
    "\n",
    "x =2\n",
    "x = fun(x+1)\n",
    "print(x)"
   ]
  },
  {
   "cell_type": "code",
   "execution_count": 53,
   "id": "179c54a4-6bef-462e-a06a-88e1e0cef7ca",
   "metadata": {},
   "outputs": [
    {
     "name": "stdout",
     "output_type": "stream",
     "text": [
      "4\n",
      "2\n"
     ]
    }
   ],
   "source": [
    "def fun(x):\n",
    "    x += 1\n",
    "    return x\n",
    "\n",
    "x =2\n",
    "print(fun(x+1))\n",
    "print(x)"
   ]

  },
  {
   "cell_type": "code",
   "execution_count": null,
   "id": "0411b367-3d91-4701-be12-0145791027b7",

   "metadata": {},
   "outputs": [],
   "source": []
  },
  {
   "cell_type": "code",
   "execution_count": null,
   "id": "60565b96-6b26-4344-8979-5ee9d7781e4c",

   "metadata": {},
   "outputs": [],
   "source": []
  },
  {
   "cell_type": "code",
   "execution_count": null,

   "id": "dcf0bbe5-a79e-4ef7-a1f2-737ddb4ad217",

   "metadata": {},
   "outputs": [],
   "source": []
  },
  {
   "cell_type": "code",
   "execution_count": null,

   "id": "75f4670e-8d9d-4f51-992f-b7399c1f97b8",

   "metadata": {},
   "outputs": [],
   "source": []
  },
  {
   "cell_type": "code",
   "execution_count": null,

   "id": "9c1b1e7f-ca85-4455-b03f-d277a541eb15",

   "metadata": {},
   "outputs": [],
   "source": []
  },
  {
   "cell_type": "code",
   "execution_count": null,

   "id": "0eb3503c-b1a6-493c-970f-ea029e00c438",

   "metadata": {},
   "outputs": [],
   "source": []
  },
  {
   "cell_type": "code",
   "execution_count": null,

   "id": "ef50baae-7278-4fdc-a533-177672fd47ff",

   "metadata": {},
   "outputs": [],
   "source": []
  },
  {
   "cell_type": "code",
   "execution_count": null,

   "id": "6bb4c4e8-627a-4cdf-9b96-968914b4d97a",

   "metadata": {},
   "outputs": [],
   "source": []
  },
  {
   "cell_type": "code",
   "execution_count": null,
   "id": "3989fc04-c8c8-4331-ba2f-b1ed69ded0ca",
   "metadata": {},
   "outputs": [],
   "source": []
  },
  {
   "cell_type": "code",
   "execution_count": null,
   "id": "c410c280-1cf7-4da8-8827-dd615bf846dc",
   "metadata": {},
   "outputs": [],
   "source": []
  },
  {
   "cell_type": "code",
   "execution_count": null,
   "id": "35ad6ba4-42b5-4334-b55a-431ca443b348",
   "metadata": {},
   "outputs": [],
   "source": []
  },
  {
   "cell_type": "code",
   "execution_count": null,
   "id": "2fde65dc-1e8f-4002-ae06-f5e55d9caa1e",
   "metadata": {},
   "outputs": [],
   "source": []
  },
  {
   "cell_type": "code",
   "execution_count": null,
   "id": "15711b7f-5bcf-43eb-991e-19aee18ba74b",
   "metadata": {},
   "outputs": [],
   "source": []
  },
  {
   "cell_type": "code",
   "execution_count": null,
   "id": "a23d175e-a8ed-48a3-bb27-6ccddfaf4e1d",
   "metadata": {},
   "outputs": [],
   "source": []
  },
  {
   "cell_type": "code",
   "execution_count": null,
   "id": "e723bc2b-1653-476f-ac81-f2adac948ddb",
   "metadata": {},
   "outputs": [],
   "source": []
  },
  {
   "cell_type": "code",
   "execution_count": null,
   "id": "16089180-b082-490d-85eb-44ec8739f5d1",
   "metadata": {},
   "outputs": [],
   "source": []
  },
  {
   "cell_type": "code",
   "execution_count": null,
   "id": "bcdac1f7-f785-49e7-b7db-3181aff3195e",
   "metadata": {},
   "outputs": [],
   "source": []
  }
 ],
 "metadata": {
  "kernelspec": {
   "display_name": "Python 3 (ipykernel)",
   "language": "python",
   "name": "python3"
  },
  "language_info": {
   "codemirror_mode": {
    "name": "ipython",
    "version": 3
   },
   "file_extension": ".py",
   "mimetype": "text/x-python",
   "name": "python",
   "nbconvert_exporter": "python",
   "pygments_lexer": "ipython3",
   "version": "3.10.13"
  }
 },
 "nbformat": 4,
 "nbformat_minor": 5
}
