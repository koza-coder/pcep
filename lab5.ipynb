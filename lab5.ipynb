{
 "cells": [
  {
   "cell_type": "code",
   "execution_count": 1,
   "id": "11a66125-2fb0-4ca2-ba34-4fb300a0838b",
   "metadata": {},
   "outputs": [
    {
     "ename": "SyntaxError",
     "evalue": "unterminated string literal (detected at line 1) (3285851739.py, line 1)",
     "output_type": "error",
     "traceback": [
      "\u001b[0;36m  Cell \u001b[0;32mIn[1], line 1\u001b[0;36m\u001b[0m\n\u001b[0;31m    x = \"\\\\\\\"\u001b[0m\n\u001b[0m        ^\u001b[0m\n\u001b[0;31mSyntaxError\u001b[0m\u001b[0;31m:\u001b[0m unterminated string literal (detected at line 1)\n"
     ]
    }
   ],
   "source": [
    "x = \"\\\\\\\"\n",
    "print(len(x))"
   ]
  },
  {
   "cell_type": "code",
   "execution_count": 3,
   "id": "786b33b3-3868-43e3-9a09-d3fac991b2c0",
   "metadata": {},
   "outputs": [
    {
     "name": "stdout",
     "output_type": "stream",
     "text": [
      "False\n",
      "True\n"
     ]
    }
   ],
   "source": [
    "list1 = [2,5,8,15]\n",
    "list2 = [2,5,8,15]\n",
    "\n",
    "print(list1 is list2)\n",
    "print(list1 == list2)"
   ]
  },
  {
   "cell_type": "code",
   "execution_count": 5,
   "id": "26cd7704-98ec-4231-84a7-11aeba3180dc",
   "metadata": {},
   "outputs": [
    {
     "name": "stdout",
     "output_type": "stream",
     "text": [
      "4475507392\n",
      "4475658944\n",
      "False\n",
      "True\n"
     ]
    }
   ],
   "source": [
    "list1 = [2,5,8,15]\n",
    "list2 = [2,5,8,15]\n",
    "\n",
    "print(id(list1))\n",
    "print(id(list2))\n",
    "\n",
    "print(list1 is list2)\n",
    "print(list1 == list2)"
   ]
  },
  {
   "cell_type": "code",
   "execution_count": 6,
   "id": "32cfa5e6-f3c0-49f6-a2d3-232c54dd3a17",
   "metadata": {},
   "outputs": [
    {
     "data": {
      "text/plain": [
       "1.0"
      ]
     },
     "execution_count": 6,
     "metadata": {},
     "output_type": "execute_result"
    }
   ],
   "source": [
    "1/1"
   ]
  },
  {
   "cell_type": "code",
   "execution_count": 11,
   "id": "aff49502-cb33-4d98-a240-859d7311088b",
   "metadata": {},
   "outputs": [
    {
     "name": "stdout",
     "output_type": "stream",
     "text": [
      "1\n",
      "0\n"
     ]
    }
   ],
   "source": [
    "x =2\n",
    "y= 6\n",
    "\n",
    "print(y//4)\n",
    "print(x//4)"
   ]
  },
  {
   "cell_type": "code",
   "execution_count": 22,
   "id": "de4dbe79-39c8-4216-9597-4ddc84162c27",
   "metadata": {},
   "outputs": [
    {
     "name": "stdout",
     "output_type": "stream",
     "text": [
      "10\n"
     ]
    }
   ],
   "source": [
    "x =2\n",
    "y= 6\n",
    "x += 2**3\n",
    "print(x)"
   ]
  },
  {
   "cell_type": "code",
   "execution_count": 23,
   "id": "5646b08c-0bd3-4f67-896d-dff93ffdd5d6",
   "metadata": {},
   "outputs": [
    {
     "name": "stdout",
     "output_type": "stream",
     "text": [
      "-2\n"
     ]
    }
   ],
   "source": [
    "x =2\n",
    "y= 6\n",
    "x *= 2-3\n",
    "print(x)"
   ]
  },
  {
   "cell_type": "code",
   "execution_count": 20,
   "id": "0fe5eece-62b6-4296-8ce6-28982f3a48b7",
   "metadata": {},
   "outputs": [
    {
     "name": "stdout",
     "output_type": "stream",
     "text": [
      "0\n"
     ]
    }
   ],
   "source": [
    "x =2\n",
    "y= 6\n",
    "x //=y\n",
    "print(x)\n",
    "#print(\"x//=y\")"
   ]
  },
  {
   "cell_type": "code",
   "execution_count": 21,
   "id": "85f73b54-4667-4601-a52c-cc9d73665deb",
   "metadata": {},
   "outputs": [
    {
     "name": "stdout",
     "output_type": "stream",
     "text": [
      "2\n"
     ]
    }
   ],
   "source": [
    "x =2\n",
    "y= 6\n",
    "x //=y // 2 // 3\n",
    "print(x)\n",
    "#print(x//=y)"
   ]
  },
  {
   "cell_type": "code",
   "execution_count": 39,
   "id": "4ed3e0d4-65cf-49d9-b120-f12285089026",
   "metadata": {},
   "outputs": [
    {
     "ename": "SyntaxError",
     "evalue": "invalid syntax (3821794927.py, line 4)",
     "output_type": "error",
     "traceback": [
      "\u001b[0;36m  Cell \u001b[0;32mIn[39], line 4\u001b[0;36m\u001b[0m\n\u001b[0;31m    print(x //=y // 2 // 3)\u001b[0m\n\u001b[0m            ^\u001b[0m\n\u001b[0;31mSyntaxError\u001b[0m\u001b[0;31m:\u001b[0m invalid syntax\n"
     ]
    }
   ],
   "source": [
    "x =2\n",
    "y= 6\n",
    "x += 2**3\n",
    "#print(x //=y // 2 // 3)\n",
    "\n",
    "print(x)"
   ]
  },
  {
   "cell_type": "code",
   "execution_count": 27,
   "id": "43f56803-2acc-4d7a-be8f-860bd4a1c8e9",
   "metadata": {},
   "outputs": [
    {
     "data": {
      "text/plain": [
       "0"
      ]
     },
     "execution_count": 27,
     "metadata": {},
     "output_type": "execute_result"
    }
   ],
   "source": [
    "1 // 2//3"
   ]
  },
  {
   "cell_type": "code",
   "execution_count": 33,
   "id": "a3ccd94d-93da-4aec-862d-81481081a245",
   "metadata": {},
   "outputs": [
    {
     "name": "stdout",
     "output_type": "stream",
     "text": [
      "beggining res= one\n",
      "one\n",
      "two\n",
      "three\n",
      "final res=one\n"
     ]
    }
   ],
   "source": [
    "data = { \"one\":\"two\", \"two\":\"three\",\"three\":\"one\"}\n",
    "res = data[\"three\"]\n",
    "print(\"beggining res=\",res)\n",
    "\n",
    "for _ in range(len(data)):\n",
    "    print(res)\n",
    "    res= data[res]\n",
    "\n",
    "print(f\"final res={res}\")\n"
   ]
  },
  {
   "cell_type": "code",
   "execution_count": 37,
   "id": "5f33cfe5-b10c-404c-b7b8-7225540a1a95",
   "metadata": {},
   "outputs": [
    {
     "name": "stdout",
     "output_type": "stream",
     "text": [
      "8\n"
     ]
    }
   ],
   "source": [
    "data = (2,5,8,10)\n",
    "data = data[-2:-1]\n",
    "data = data[-1]\n",
    "print(data)"
   ]
  },
  {
   "cell_type": "code",
   "execution_count": 38,
   "id": "aa63b3de-d639-4be6-9f8a-aa4e7dd983a2",
   "metadata": {},
   "outputs": [
    {
     "name": "stdout",
     "output_type": "stream",
     "text": [
      "[5, 6, 7, 7]\n"
     ]
    }
   ],
   "source": [
    "l1 = [5,6,7,8]\n",
    "l1[-1] = l1[-2]\n",
    "print(l1)"
   ]
  },
  {
   "cell_type": "code",
   "execution_count": 44,
   "id": "35c7fe2d-2965-4214-9a24-190c71ad058a",
   "metadata": {},
   "outputs": [
    {
     "name": "stdout",
     "output_type": "stream",
     "text": [
      "a b a b a b a b\n"
     ]
    }
   ],
   "source": [
    "print(\"a\", \"b\", \"a\", \"b\", \"a\", \"b\", \"a\", \"b\")"
   ]
  },
  {
   "cell_type": "code",
   "execution_count": 45,
   "id": "8cd635f3-b2cd-4f3c-a808-26fcd417307f",
   "metadata": {},
   "outputs": [
    {
     "name": "stdout",
     "output_type": "stream",
     "text": [
      "\n"
     ]
    }
   ],
   "source": [
    "print()"
   ]
  },
  {
   "cell_type": "code",
   "execution_count": 56,
   "id": "affcddb2-1fcf-41cc-b877-2c6ecccecc76",
   "metadata": {},
   "outputs": [
    {
     "name": "stdout",
     "output_type": "stream",
     "text": [
      "janusz_januszewki"
     ]
    }
   ],
   "source": [
    "#expected output: janusz_januszewki \n",
    "\n",
    "for a in \"janusz_januszewki@januszowiec.pl\":\n",
    "    if a == \"@\":\n",
    "        break  #wpisac komende\n",
    "    print(a, end=\"\")\n"
   ]
  },
  {
   "cell_type": "code",
   "execution_count": 57,
   "id": "176bfb87-a77b-4aaa-aa58-e353b8c678fc",
   "metadata": {},
   "outputs": [
    {
     "name": "stdout",
     "output_type": "stream",
     "text": [
      "adam_smit"
     ]
    }
   ],
   "source": [
    "    for ch in \"adam_smit@openedg.org\":\n",
    "     \n",
    "        if ch == \"@\":\n",
    "            break\n",
    "            # insert code here\n",
    "     \n",
    "        print(ch, end=\"\")"
   ]
  },
  {
   "cell_type": "code",
   "execution_count": 58,
   "id": "2ac09b2a-073a-4724-96b4-4d4881c68da6",
   "metadata": {},
   "outputs": [
    {
     "name": "stdout",
     "output_type": "stream",
     "text": [
      "<class 'int'> <class 'str'> <class 'str'>\n"
     ]
    }
   ],
   "source": [
    "x= 30+40\n",
    "y = \"30\" +\"40\"\n",
    "z = \"30\" * 3\n",
    "\n",
    "print(type (x), type(y), type(z))"
   ]
  },
  {
   "cell_type": "code",
   "execution_count": 59,
   "id": "e4a4585d-8dea-431d-af97-048e11148d3c",
   "metadata": {},
   "outputs": [
    {
     "ename": "SyntaxError",
     "evalue": "positional argument follows keyword argument (1792678110.py, line 4)",
     "output_type": "error",
     "traceback": [
      "\u001b[0;36m  Cell \u001b[0;32mIn[59], line 4\u001b[0;36m\u001b[0m\n\u001b[0;31m    func(b=2,2)\u001b[0m\n\u001b[0m              ^\u001b[0m\n\u001b[0;31mSyntaxError\u001b[0m\u001b[0;31m:\u001b[0m positional argument follows keyword argument\n"
     ]
    }
   ],
   "source": [
    "def func(a, b):\n",
    "    return b**a\n",
    "\n",
    "func(b=2,2)"
   ]
  },
  {
   "cell_type": "code",
   "execution_count": null,
   "id": "67f77b29-4810-43b9-b133-a035c3c8a072",
   "metadata": {},
   "outputs": [],
   "source": [
    "\n"
   ]
  },
  {
   "cell_type": "code",
   "execution_count": 63,
   "id": "a8a2166c-6659-434a-9f30-771134840ea3",
   "metadata": {},
   "outputs": [
    {
     "ename": "ValueError",
     "evalue": "could not convert string to float: '/Users/przemek/Library/Jupyter/runtime/kernel-ad4a3f33-2d5c-454b-8add-e77a6880f3b1.json'",
     "output_type": "error",
     "traceback": [
      "\u001b[0;31m---------------------------------------------------------------------------\u001b[0m",
      "\u001b[0;31mValueError\u001b[0m                                Traceback (most recent call last)",
      "Cell \u001b[0;32mIn[63], line 5\u001b[0m\n\u001b[1;32m      3\u001b[0m \u001b[38;5;28msum\u001b[39m \u001b[38;5;241m=\u001b[39m\u001b[38;5;241m0\u001b[39m\n\u001b[1;32m      4\u001b[0m \u001b[38;5;28;01mfor\u001b[39;00m i \u001b[38;5;129;01min\u001b[39;00m \u001b[38;5;28mrange\u001b[39m(\u001b[38;5;241m2\u001b[39m, \u001b[38;5;28mlen\u001b[39m(argv)):\n\u001b[0;32m----> 5\u001b[0m     \u001b[38;5;28msum\u001b[39m \u001b[38;5;241m+\u001b[39m\u001b[38;5;241m=\u001b[39m \u001b[38;5;28;43mfloat\u001b[39;49m\u001b[43m(\u001b[49m\u001b[43margv\u001b[49m\u001b[43m[\u001b[49m\u001b[43mi\u001b[49m\u001b[43m]\u001b[49m\u001b[43m)\u001b[49m\n\u001b[1;32m      7\u001b[0m \u001b[38;5;28mprint\u001b[39m(\u001b[38;5;124m\"\u001b[39m\u001b[38;5;124mthe average earnings of \u001b[39m\u001b[38;5;132;01m{}\u001b[39;00m\u001b[38;5;124m are equal \u001b[39m\u001b[38;5;132;01m{1:.2f}\u001b[39;00m\u001b[38;5;124m.\u001b[39m\u001b[38;5;124m\"\u001b[39m\u001b[38;5;241m.\u001b[39mformat(argc[\u001b[38;5;241m1\u001b[39m], \u001b[38;5;28msum\u001b[39m\u001b[38;5;241m/\u001b[39m(\u001b[38;5;28mlen\u001b[39m(argv)\u001b[38;5;241m-\u001b[39m\u001b[38;5;241m2\u001b[39m)))\n",
      "\u001b[0;31mValueError\u001b[0m: could not convert string to float: '/Users/przemek/Library/Jupyter/runtime/kernel-ad4a3f33-2d5c-454b-8add-e77a6880f3b1.json'"
     ]
    }
   ],
   "source": [
    "from sys import argv\n",
    "\n",
    "sum =0\n",
    "for i in range(2, len(argv)):\n",
    "    sum += float(argv[i])\n",
    "\n",
    "print(\"the average earnings of {} are equal {1:.2f}.\".format(argv[1], sum/(len(argv)-2)))"
   ]
  },
  {
   "cell_type": "code",
   "execution_count": 64,
   "id": "146e4230-58f4-4ab1-8618-ebc87f19d0ad",
   "metadata": {},
   "outputs": [
    {
     "name": "stdout",
     "output_type": "stream",
     "text": [
      "3\n"
     ]
    }
   ],
   "source": [
    "data =[3, [4,5],6,[7,8,9],10,[11]]\n",
    "\n",
    "counter =0\n",
    "for i in range(len(data)):\n",
    "    if type(data[i]) == list:\n",
    "        counter += 1\n",
    "\n",
    "print(counter)\n",
    "        "
   ]
  },
  {
   "cell_type": "code",
   "execution_count": 69,
   "id": "36436d21-24db-4a78-8e37-894006df1a97",
   "metadata": {},
   "outputs": [
    {
     "name": "stdout",
     "output_type": "stream",
     "text": [
      "((1, 2), (1, 2), (1, 2), (1, 2), (1, 2), (1, 2), (1, 2))\n",
      "4\n"
     ]
    }
   ],
   "source": [
    "data = ((1,2),) *7\n",
    "print(data)\n",
    "print(len(data[3:8]))"
   ]
  },
  {
   "cell_type": "code",
   "execution_count": 72,
   "id": "ef770bf6-52e6-4a55-b97c-f28341695867",
   "metadata": {},
   "outputs": [
    {
     "name": "stdout",
     "output_type": "stream",
     "text": [
      "[3, 4, 5, 6]\n"
     ]
    }
   ],
   "source": [
    "data = [1,2,3,4,5,6]\n",
    "print(data[2:8])"
   ]
  },
  {
   "cell_type": "code",
   "execution_count": 73,
   "id": "4a884c78-35f4-4aee-bfda-f129db3fc155",
   "metadata": {},
   "outputs": [
    {
     "name": "stdout",
     "output_type": "stream",
     "text": [
      "3 2 1\n"
     ]
    }
   ],
   "source": [
    "x,y,z = 1,2,3\n",
    "z,y,x = x,y,z\n",
    "print(x,y,z)"
   ]
  },
  {
   "cell_type": "code",
   "execution_count": 74,
   "id": "8dabdf30-7b72-40ec-bcf4-60f9d873190b",
   "metadata": {},
   "outputs": [
    {
     "name": "stdout",
     "output_type": "stream",
     "text": [
      "[5, 4, 3, 2]\n"
     ]
    }
   ],
   "source": [
    "l1 = [2,3,4,5]\n",
    "l1.reverse()\n",
    "print(l1)"
   ]
  },
  {
   "cell_type": "code",
   "execution_count": 79,
   "id": "2a49f070-abbb-44a5-ad7f-0ada7b3ed6ae",
   "metadata": {},
   "outputs": [
    {
     "name": "stdout",
     "output_type": "stream",
     "text": [
      "1. x: 42\n",
      "2. x: 23\n",
      "3. x: 23\n"
     ]
    }
   ],
   "source": [
    "x =42\n",
    "\n",
    "def func():\n",
    "    global x\n",
    "    print(\"1. x:\", x)\n",
    "    x =23\n",
    "    print(\"2. x:\", x)\n",
    "    \n",
    "func()\n",
    "print(\"3. x:\", x)"
   ]
  },
  {
   "cell_type": "code",
   "execution_count": 80,
   "id": "4608cbe7-39af-4a7e-8c97-78bd6fca784c",
   "metadata": {},
   "outputs": [
    {
     "name": "stdout",
     "output_type": "stream",
     "text": [
      "False\n",
      "False\n",
      "True\n",
      "True\n"
     ]
    }
   ],
   "source": [
    "nums = [3,7,20,25]\n",
    "abcs = [\"a\", \"b\", \"c\",\"d\"]\n",
    "\n",
    "print(nums is abcs)\n",
    "print(nums == abcs)\n",
    "\n",
    "nums = abcs\n",
    "\n",
    "print(nums is abcs)\n",
    "print(nums == abcs)"
   ]
  },
  {
   "cell_type": "code",
   "execution_count": 81,
   "id": "691a392e-49d0-4d16-a4df-cb094c6ebcfe",
   "metadata": {},
   "outputs": [
    {
     "name": "stdout",
     "output_type": "stream",
     "text": [
      "1\n"
     ]
    }
   ],
   "source": [
    "try:\n",
    "    raise Exception\n",
    "except BaseException:\n",
    "    print(\"1\")\n",
    "except Exception:\n",
    "    print(\"2\")\n",
    "except:\n",
    "    print(\"3\")"
   ]
  },
  {
   "cell_type": "code",
   "execution_count": 82,
   "id": "69c94466-9f0c-429d-9446-c7ca2a880cf1",
   "metadata": {},
   "outputs": [
    {
     "name": "stdout",
     "output_type": "stream",
     "text": [
      "inside functiction values: [1, 2, 3, 4, 5]\n",
      "outside functions values: [6, 7, 8]\n"
     ]
    }
   ],
   "source": [
    "def func(lists):\n",
    "    lists = [1,2,3,4,5]\n",
    "    print(\"inside functiction values:\", lists)\n",
    "\n",
    "lists = [6,7,8]\n",
    "\n",
    "func(lists)\n",
    "print(\"outside functions values:\", lists)"
   ]
  },
  {
   "cell_type": "code",
   "execution_count": 83,
   "id": "a645fdf8-a80d-430e-8128-e6449c548e11",
   "metadata": {},
   "outputs": [
    {
     "name": "stdout",
     "output_type": "stream",
     "text": [
      "{1: 2, 4: 'b'}\n",
      "{}\n"
     ]
    },
    {
     "data": {
      "text/plain": [
       "\u001b[0;31mDocstring:\u001b[0m D.clear() -> None.  Remove all items from D.\n",
       "\u001b[0;31mType:\u001b[0m      builtin_function_or_method"
      ]
     },
     "metadata": {},
     "output_type": "display_data"
    }
   ],
   "source": [
    "b = {1:2, 4:\"b\"}\n",
    "print(b)\n",
    "b.clear?\n",
    "b.clear()\n",
    "print(b)"
   ]
  },
  {
   "cell_type": "code",
   "execution_count": 87,
   "id": "2c96f7f7-8774-45d8-96e8-d2e234763b77",
   "metadata": {},
   "outputs": [
    {
     "name": "stdout",
     "output_type": "stream",
     "text": [
      "4\n",
      "4\n"
     ]
    }
   ],
   "source": [
    "a = [1,2,3,4]\n",
    "print(len(a))\n",
    "print(a.__len__())"
   ]
  },
  {
   "cell_type": "code",
   "execution_count": 88,
   "id": "4ae6693c-3003-4da1-9ebc-5053d87be7c6",
   "metadata": {},
   "outputs": [
    {
     "name": "stdout",
     "output_type": "stream",
     "text": [
      "$\n",
      "$\n"
     ]
    }
   ],
   "source": [
    "for i in range (-1, 1):\n",
    "    print(\"$\")"
   ]
  },
  {
   "cell_type": "code",
   "execution_count": 89,
   "id": "7b65fc89-cd50-4f72-a42d-c22739c6519a",
   "metadata": {},
   "outputs": [
    {
     "name": "stdout",
     "output_type": "stream",
     "text": [
      "7\n"
     ]
    }
   ],
   "source": [
    "def fun():\n",
    "    return 4\n",
    "\n",
    "def add(a):\n",
    "    return fun() + a\n",
    "\n",
    "print(add(3))"
   ]
  },
  {
   "cell_type": "code",
   "execution_count": 90,
   "id": "5b34c21b-5f8a-448c-aba7-b0188958c876",
   "metadata": {},
   "outputs": [
    {
     "name": "stdout",
     "output_type": "stream",
     "text": [
      "abcabcabcxyz\n"
     ]
    }
   ],
   "source": [
    "\n",
    "print(3 * 'abc' + 'xyz')"
   ]
  },
  {
   "cell_type": "code",
   "execution_count": 92,
   "id": "82853b39-3ef9-4c9a-9da0-dd99a2bf03aa",
   "metadata": {},
   "outputs": [
    {
     "name": "stdout",
     "output_type": "stream",
     "text": [
      "False\n"
     ]
    },
    {
     "data": {
      "text/plain": [
       "\u001b[0;31mDocstring:\u001b[0m D.copy() -> a shallow copy of D\n",
       "\u001b[0;31mType:\u001b[0m      builtin_function_or_method"
      ]
     },
     "metadata": {},
     "output_type": "display_data"
    }
   ],
   "source": [
    "data = {1:\"John\", 2:\"Philip\"}\n",
    "data2 = data.copy?\n",
    "data2 = data.copy()\n",
    "print(id(data) == id(data2))"
   ]
  },
  {
   "cell_type": "code",
   "execution_count": 93,
   "id": "fd7e3424-b21e-46ab-afe4-f85f35378621",
   "metadata": {},
   "outputs": [
    {
     "name": "stdout",
     "output_type": "stream",
     "text": [
      "(1, 2, 1, 2)\n",
      "(1, 2, 1, 2, 1, 2, 1, 2)\n",
      "8\n"
     ]
    }
   ],
   "source": [
    "tup = (1,2) +(1,2)\n",
    "print(tup)\n",
    "tup = tup + tup\n",
    "print(tup)\n",
    "print(len(tup))"
   ]
  },
  {
   "cell_type": "code",
   "execution_count": 95,
   "id": "f4ba9ccb-25ac-4443-8678-65e8fbf87e6c",
   "metadata": {},
   "outputs": [
    {
     "name": "stdout",
     "output_type": "stream",
     "text": [
      "['apples', 'oranges']\n"
     ]
    }
   ],
   "source": [
    "data = { \"apples\":3, \"oranges\":5}\n",
    "print(list(data.keys()))"
   ]
  },
  {
   "cell_type": "code",
   "execution_count": null,
   "id": "a43984c5-1053-4f47-ba14-94a349901591",
   "metadata": {},
   "outputs": [],
   "source": []
  },
  {
   "cell_type": "code",
   "execution_count": null,
   "id": "4aeeb0a5-dcf1-4cc4-87da-a40ee84ee277",
   "metadata": {},
   "outputs": [],
   "source": []
  },
  {
   "cell_type": "code",
   "execution_count": null,
   "id": "e9cb5f81-91e4-4ff2-a213-c16328aacbc0",
   "metadata": {},
   "outputs": [],
   "source": []
  },
  {
   "cell_type": "code",
   "execution_count": null,
   "id": "f5edd278-f1d4-45bc-9e6e-7babac3da6f2",
   "metadata": {},
   "outputs": [],
   "source": []
  },
  {
   "cell_type": "code",
   "execution_count": null,
   "id": "c0b6142a-bede-4fc8-ae3f-2c49ece94e0f",
   "metadata": {},
   "outputs": [],
   "source": []
  },
  {
   "cell_type": "code",
   "execution_count": null,
   "id": "c50214fb-cd87-48d6-9e4f-7fb87825bb0e",
   "metadata": {},
   "outputs": [],
   "source": []
  },
  {
   "cell_type": "code",
   "execution_count": null,
   "id": "909fb23b-d799-4863-a414-f54fb68c82be",
   "metadata": {},
   "outputs": [],
   "source": []
  },
  {
   "cell_type": "code",
   "execution_count": null,
   "id": "1b2dde15-24be-4f41-be0a-9d1a066b4545",
   "metadata": {},
   "outputs": [],
   "source": []
  },
  {
   "cell_type": "code",
   "execution_count": null,
   "id": "64a5d4f7-306b-4594-adc3-4d31573bd36d",
   "metadata": {},
   "outputs": [],
   "source": []
  },
  {
   "cell_type": "code",
   "execution_count": null,
   "id": "d2a9b64a-1bb0-49a8-905e-844ade9c2e53",
   "metadata": {},
   "outputs": [],
   "source": []
  },
  {
   "cell_type": "code",
   "execution_count": null,
   "id": "ca9f9143-d2a0-484f-91e4-1e6b4d537740",
   "metadata": {},
   "outputs": [],
   "source": []
  }
 ],
 "metadata": {
  "kernelspec": {
   "display_name": "Python 3 (ipykernel)",
   "language": "python",
   "name": "python3"
  },
  "language_info": {
   "codemirror_mode": {
    "name": "ipython",
    "version": 3
   },
   "file_extension": ".py",
   "mimetype": "text/x-python",
   "name": "python",
   "nbconvert_exporter": "python",
   "pygments_lexer": "ipython3",
   "version": "3.10.13"
  }
 },
 "nbformat": 4,
 "nbformat_minor": 5
}
